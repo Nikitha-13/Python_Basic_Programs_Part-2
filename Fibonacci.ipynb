{
 "cells": [
  {
   "cell_type": "code",
   "execution_count": null,
   "metadata": {},
   "outputs": [],
   "source": [
    "# Program to generate Fibonacci Numbers\n",
    "def fibonacci(limit):\n",
    "    fib_seq = [0, 1]\n",
    "\n",
    "    while fib_seq[-1] + fib_seq[-2] <= limit:\n",
    "        next_fib = fib_seq[-1] + fib_seq[-2]\n",
    "        fib_seq.append(next_fib)\n",
    "\n",
    "    print(\"Fibonacci series up to\", limit, \":\", fib_seq)\n",
    "\n",
    "user_limit = int(input(\"Enter the limit : \"))\n",
    "fibonacci(user_limit)"
   ]
  }
 ],
 "metadata": {
  "kernelspec": {
   "display_name": "Python 3",
   "language": "python",
   "name": "python3"
  },
  "language_info": {
   "codemirror_mode": {
    "name": "ipython",
    "version": 3
   },
   "file_extension": ".py",
   "mimetype": "text/x-python",
   "name": "python",
   "nbconvert_exporter": "python",
   "pygments_lexer": "ipython3",
   "version": "3.7.8"
  },
  "orig_nbformat": 4
 },
 "nbformat": 4,
 "nbformat_minor": 2
}
