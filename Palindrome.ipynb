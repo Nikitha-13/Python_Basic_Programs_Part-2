{
 "cells": [
  {
   "cell_type": "code",
   "execution_count": null,
   "metadata": {},
   "outputs": [],
   "source": [
    "# Program to check is a string is Palindrome\n",
    "def palindrome(input_str):\n",
    "    input_str == input_str[ : : -1]\n",
    "\n",
    "user_input = input(\"Enter a string : \")\n",
    "\n",
    "if palindrome(user_input):\n",
    "    print(\"It is a Palindrome\")\n",
    "    \n",
    "else:\n",
    "    print(\"It is not a Plaindrome\")"
   ]
  }
 ],
 "metadata": {
  "kernelspec": {
   "display_name": "Python 3",
   "language": "python",
   "name": "python3"
  },
  "language_info": {
   "codemirror_mode": {
    "name": "ipython",
    "version": 3
   },
   "file_extension": ".py",
   "mimetype": "text/x-python",
   "name": "python",
   "nbconvert_exporter": "python",
   "pygments_lexer": "ipython3",
   "version": "3.7.8"
  },
  "orig_nbformat": 4
 },
 "nbformat": 4,
 "nbformat_minor": 2
}
