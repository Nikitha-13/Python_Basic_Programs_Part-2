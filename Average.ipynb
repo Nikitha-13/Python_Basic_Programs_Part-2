{
 "cells": [
  {
   "cell_type": "code",
   "execution_count": null,
   "metadata": {},
   "outputs": [],
   "source": [
    "#Program to find Average of numbers\n",
    "\n",
    "def cal_average(numbers):\n",
    "    if not numbers:\n",
    "        print(\"The list is empty.\")\n",
    "        return\n",
    "    \n",
    "    total_sum = sum(numbers)\n",
    "    average = total_sum / len(numbers)\n",
    "    print(f\"The average of the numbers is : {average}\")\n",
    "\n",
    "num_list = [2, 5, 2, 7, 4, 8]\n",
    "cal_average(num_list)"
   ]
  }
 ],
 "metadata": {
  "language_info": {
   "name": "python"
  },
  "orig_nbformat": 4
 },
 "nbformat": 4,
 "nbformat_minor": 2
}
