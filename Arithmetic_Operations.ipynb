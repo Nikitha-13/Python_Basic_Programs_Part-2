{
 "cells": [
  {
   "cell_type": "code",
   "execution_count": null,
   "metadata": {},
   "outputs": [],
   "source": [
    "#Program to find Arithmetic Operations\n",
    "def arith_op(a, b):\n",
    "\n",
    "    # Addition\n",
    "    add_res = a + b\n",
    "    print(f\"Addition : {a} + {b} = {add_res}\")\n",
    "\n",
    "    # Subtraction\n",
    "    sub_res = a - b\n",
    "    print(f\"Subtraction : {a} - {b} = {sub_res}\")\n",
    "\n",
    "    # Multiplication\n",
    "    mul_res = a * b\n",
    "    print(f\"Multiplication : {a} * {b} = {mul_res}\")\n",
    "\n",
    "    # Division\n",
    "    # Check if the divisor is not zero to avoid division by zero error\n",
    "    if b != 0:\n",
    "        div_res = a / b\n",
    "        print(f\"Division : {a} / {b} = {div_res}\")\n",
    "\n",
    "a = 58\n",
    "b = 42\n",
    "arith_op(a, b)"
   ]
  }
 ],
 "metadata": {
  "language_info": {
   "name": "python"
  },
  "orig_nbformat": 4
 },
 "nbformat": 4,
 "nbformat_minor": 2
}
